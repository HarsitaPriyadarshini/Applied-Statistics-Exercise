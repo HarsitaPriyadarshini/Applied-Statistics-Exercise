{
 "cells": [
  {
   "cell_type": "code",
   "execution_count": 3,
   "id": "f6adca23-4210-47da-8e60-3bd334f9c1e2",
   "metadata": {},
   "outputs": [
    {
     "name": "stdout",
     "output_type": "stream",
     "text": [
      "[1 2 3]\n",
      "<class 'numpy.ndarray'>\n",
      "(3,)\n",
      "[4, 7, 8, 12]\n",
      "<class 'list'>\n"
     ]
    }
   ],
   "source": [
    "import numpy as np\n",
    "a= np.array([1,2,3])\n",
    "b=[4,7,8,12]\n",
    "print(a)\n",
    "print (type(a))\n",
    "print (a.shape)\n",
    "print(b)\n",
    "print(type(b))"
   ]
  },
  {
   "cell_type": "code",
   "execution_count": 5,
   "id": "36968f18-2864-4c8b-933a-467cc38bca96",
   "metadata": {},
   "outputs": [
    {
     "name": "stdout",
     "output_type": "stream",
     "text": [
      "1 2 3\n",
      "[5 2 3]\n"
     ]
    }
   ],
   "source": [
    "import numpy as np\n",
    "a= np.array([1,2,3])\n",
    "print(a[0],a[1],a[2])\n",
    "a[0]=5\n",
    "print(a)"
   ]
  },
  {
   "cell_type": "code",
   "execution_count": 7,
   "id": "d3b4bebd-0bc6-47fc-9859-8a26067cbd7d",
   "metadata": {},
   "outputs": [
    {
     "name": "stdout",
     "output_type": "stream",
     "text": [
      "(2, 3)\n",
      "1 2 4\n"
     ]
    }
   ],
   "source": [
    "import numpy as np\n",
    "b=np.array([[1,2,3],[4,5,6]])\n",
    "print(b.shape)\n",
    "print(b[0,0],b[0,1],b[1,0])"
   ]
  },
  {
   "cell_type": "code",
   "execution_count": 11,
   "id": "75750b24-3591-4897-a514-372720741bb1",
   "metadata": {},
   "outputs": [
    {
     "name": "stdout",
     "output_type": "stream",
     "text": [
      "[[0. 0.]\n",
      " [0. 0.]]\n",
      "[[1. 1.]]\n",
      "[[7 7]\n",
      " [7 7]]\n",
      "[[1. 0.]\n",
      " [0. 1.]]\n",
      "[[0.02649344 0.42875038]\n",
      " [0.40776939 0.99376162]]\n"
     ]
    }
   ],
   "source": [
    "import numpy as np\n",
    "a=np.zeros((2,2))\n",
    "print(a)\n",
    "\n",
    "b=np.ones((1,2))\n",
    "print(b)\n",
    "\n",
    "c=np.full((2,2),7)\n",
    "print(c)\n",
    "\n",
    "d=np.eye(2)\n",
    "print(d)\n",
    "\n",
    "e=np.random.random((2,2))\n",
    "print(e)"
   ]
  },
  {
   "cell_type": "code",
   "execution_count": 15,
   "id": "1458817c-54f7-4eb9-af6a-1a0f4feadaa7",
   "metadata": {},
   "outputs": [
    {
     "data": {
      "text/plain": [
       "array([2.  , 2.25, 2.5 , 2.75, 3.  ])"
      ]
     },
     "execution_count": 15,
     "metadata": {},
     "output_type": "execute_result"
    }
   ],
   "source": [
    "import numpy as np\n",
    "np.linspace(2.0,3.0,num=5)"
   ]
  },
  {
   "cell_type": "code",
   "execution_count": 17,
   "id": "d5b62e81-d3f4-457f-8f06-2a65e1577470",
   "metadata": {},
   "outputs": [
    {
     "data": {
      "text/plain": [
       "array([2. , 2.2, 2.4, 2.6, 2.8])"
      ]
     },
     "execution_count": 17,
     "metadata": {},
     "output_type": "execute_result"
    }
   ],
   "source": [
    "import numpy as np\n",
    "np.linspace(2.0,3.0,num=5,endpoint=False)"
   ]
  },
  {
   "cell_type": "code",
   "execution_count": 19,
   "id": "7a21187e-5ccc-469a-b5c8-dc17579be46f",
   "metadata": {},
   "outputs": [
    {
     "data": {
      "text/plain": [
       "(array([2.  , 2.25, 2.5 , 2.75, 3.  ]), 0.25)"
      ]
     },
     "execution_count": 19,
     "metadata": {},
     "output_type": "execute_result"
    }
   ],
   "source": [
    "import numpy as np\n",
    "np.linspace(2.0,3.0,num=5,retstep=True)"
   ]
  },
  {
   "cell_type": "code",
   "execution_count": 37,
   "id": "fc50cdca-bb8d-444b-8812-99a71817f745",
   "metadata": {},
   "outputs": [
    {
     "name": "stdout",
     "output_type": "stream",
     "text": [
      "[[ 1  2  3  4]\n",
      " [ 5  6  7  8]\n",
      " [ 9 10 11 12]]\n",
      "[[2 3]\n",
      " [6 7]]\n",
      "[[ 7  8]\n",
      " [11 12]]\n"
     ]
    }
   ],
   "source": [
    "import numpy as np\n",
    "a=np.array([[1,2,3,4],[5,6,7,8],[9,10,11,12]])\n",
    "b=a[::]\n",
    "c=a[:2,1:3]\n",
    "d=a[1:3,2:4]\n",
    "print(b)\n",
    "print(c)\n",
    "print(d)"
   ]
  },
  {
   "cell_type": "code",
   "execution_count": 41,
   "id": "26a10170-eab3-42c8-acd5-8035e8e7a43f",
   "metadata": {},
   "outputs": [
    {
     "name": "stdout",
     "output_type": "stream",
     "text": [
      "[[2]\n",
      " [6]]\n",
      "[[ 9 10]]\n",
      "[[2 3 4]\n",
      " [6 7 8]]\n",
      "[[7]]\n",
      "[]\n"
     ]
    }
   ],
   "source": [
    "import numpy as np\n",
    "a=np.array([[1,2,3,4],[5,6,7,8],[9,10,11,12]])\n",
    "e=a[0:2,1:2]\n",
    "f=a[2:3,0:2]\n",
    "g=a[:2,1:]\n",
    "h=a[-2:-1,-2:-1]\n",
    "i=a[-2:1,1:3]\n",
    "print(e)\n",
    "print(f)\n",
    "print(g)\n",
    "print(h)\n",
    "print(i)"
   ]
  },
  {
   "cell_type": "code",
   "execution_count": 43,
   "id": "b1bcfca0-f206-4416-9b3c-6326c77c6d0f",
   "metadata": {},
   "outputs": [
    {
     "name": "stdout",
     "output_type": "stream",
     "text": [
      "[1 4 5]\n",
      "[1 4 5]\n",
      "[2 2]\n",
      "[2 2]\n"
     ]
    }
   ],
   "source": [
    "import numpy as np\n",
    "a=np.array([[1,2],[3,4],[5,6]])\n",
    "print(a[[0,1,2],[0,1,0]])\n",
    "print(np.array([a[0,0],a[1,1],a[2,0]]))\n",
    "print(a[[0,0],[1,1]])\n",
    "print(np.array([a[0,1],a[0,1]]))"
   ]
  },
  {
   "cell_type": "code",
   "execution_count": 47,
   "id": "7f1488b3-4a28-4253-95d3-78f17081b2be",
   "metadata": {},
   "outputs": [
    {
     "name": "stdout",
     "output_type": "stream",
     "text": [
      "[[ 1  2  3]\n",
      " [ 4  5  6]\n",
      " [ 7  8  9]\n",
      " [10 11 12]]\n",
      "[ 1  6  7 11]\n",
      "[[11  2  3]\n",
      " [ 4  5 16]\n",
      " [17  8  9]\n",
      " [10 21 12]]\n"
     ]
    }
   ],
   "source": [
    "import numpy as np\n",
    "a=np.array([[1,2,3],[4,5,6],[7,8,9],[10,11,12]])\n",
    "print(a)\n",
    "b=np.array([0,2,0,1])\n",
    "print(a[np.arange(4),b])\n",
    "a[np.arange(4),b]+=10\n",
    "print(a)"
   ]
  },
  {
   "cell_type": "code",
   "execution_count": 51,
   "id": "f7ef827a-982f-414b-9a72-7e02471a8013",
   "metadata": {},
   "outputs": [
    {
     "name": "stdout",
     "output_type": "stream",
     "text": [
      "[[False False]\n",
      " [ True  True]\n",
      " [ True  True]]\n",
      "[3 4 5 6]\n",
      "[3 4 5 6]\n"
     ]
    }
   ],
   "source": [
    "import numpy as np\n",
    "a=np.array([[1,2],[3,4],[5,6]])\n",
    "bool_idx=(a>2)\n",
    "print(bool_idx)\n",
    "print(a[bool_idx])\n",
    "print(a[a>2])"
   ]
  },
  {
   "cell_type": "code",
   "execution_count": 55,
   "id": "4274c91c-e79f-4c43-a100-6e12f6cae189",
   "metadata": {},
   "outputs": [
    {
     "name": "stdout",
     "output_type": "stream",
     "text": [
      "int32\n",
      "float64\n",
      "int64\n"
     ]
    }
   ],
   "source": [
    "import numpy as np\n",
    "x=np.array([1,2])\n",
    "print(x.dtype)\n",
    "x=np.array([1.0,2.0])\n",
    "print(x.dtype)\n",
    "x=np.array([1,2],dtype=np.int64)\n",
    "print(x.dtype)"
   ]
  },
  {
   "cell_type": "code",
   "execution_count": 57,
   "id": "a7961445-ceb6-435c-b30e-380eb4aa04da",
   "metadata": {},
   "outputs": [
    {
     "name": "stdout",
     "output_type": "stream",
     "text": [
      "[[ 6.  8.]\n",
      " [10. 12.]]\n",
      "[[ 6.  8.]\n",
      " [10. 12.]]\n",
      "[[ 5. 12.]\n",
      " [21. 32.]]\n",
      "[[ 5. 12.]\n",
      " [21. 32.]]\n",
      "[[0.2        0.33333333]\n",
      " [0.42857143 0.5       ]]\n",
      "[[0.2        0.33333333]\n",
      " [0.42857143 0.5       ]]\n",
      "[[1.         1.41421356]\n",
      " [1.73205081 2.        ]]\n"
     ]
    }
   ],
   "source": [
    "import numpy as np\n",
    "x=np.array([[1,2],[3,4]],dtype=np.float64)\n",
    "y=np.array([[5,6],[7,8]],dtype=np.float64)\n",
    "print(x+y)\n",
    "print(np.add(x,y))\n",
    "print(x*y)\n",
    "print(np.multiply(x,y))\n",
    "print(x/y)\n",
    "print(np.divide(x,y))\n",
    "print(np.sqrt(x))"
   ]
  },
  {
   "cell_type": "code",
   "execution_count": 59,
   "id": "aaf58be4-9b62-4f2b-bda9-25349b8be282",
   "metadata": {},
   "outputs": [
    {
     "name": "stdout",
     "output_type": "stream",
     "text": [
      "[[1 2]\n",
      " [3 4]]\n",
      "[[1 3]\n",
      " [2 4]]\n",
      "[1 2 3]\n",
      "[1 2 3]\n"
     ]
    }
   ],
   "source": [
    "import numpy as np\n",
    "x=np.array([[1,2],[3,4]])\n",
    "print(x)\n",
    "print(x.T)\n",
    "v=np.array([1,2,3])\n",
    "print(v)\n",
    "print(v.T)"
   ]
  },
  {
   "cell_type": "code",
   "execution_count": null,
   "id": "7fb27a20-8969-4c5d-88a1-714d6d5e0a1e",
   "metadata": {},
   "outputs": [],
   "source": []
  }
 ],
 "metadata": {
  "kernelspec": {
   "display_name": "Python 3 (ipykernel)",
   "language": "python",
   "name": "python3"
  },
  "language_info": {
   "codemirror_mode": {
    "name": "ipython",
    "version": 3
   },
   "file_extension": ".py",
   "mimetype": "text/x-python",
   "name": "python",
   "nbconvert_exporter": "python",
   "pygments_lexer": "ipython3",
   "version": "3.11.5"
  }
 },
 "nbformat": 4,
 "nbformat_minor": 5
}
